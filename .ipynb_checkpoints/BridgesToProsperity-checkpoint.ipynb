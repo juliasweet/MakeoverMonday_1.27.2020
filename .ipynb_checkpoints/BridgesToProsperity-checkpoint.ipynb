{
 "cells": [
  {
   "cell_type": "markdown",
   "metadata": {},
   "source": [
    "# Bridges to Prosperity Project\n",
    "\n",
    "### Re-visualizing the Bridges to Prosperity Data"
   ]
  },
  {
   "cell_type": "code",
   "execution_count": 28,
   "metadata": {},
   "outputs": [],
   "source": [
    "import pandas as pd\n",
    "import os\n",
    "\n",
    "giDF = pd.read_excel('https://query.data.world/s/offrconqpryrrz2j2smhs62zcx4tag')\n",
    "bridgesDF = pd.read_excel('https://query.data.world/s/yjfe2z7upke6p5kj375vvnqobrwbzs')"
   ]
  },
  {
   "cell_type": "markdown",
   "metadata": {},
   "source": [
    "### Global Indicators "
   ]
  },
  {
   "cell_type": "code",
   "execution_count": 29,
   "metadata": {},
   "outputs": [
    {
     "data": {
      "text/html": [
       "<div>\n",
       "<style scoped>\n",
       "    .dataframe tbody tr th:only-of-type {\n",
       "        vertical-align: middle;\n",
       "    }\n",
       "\n",
       "    .dataframe tbody tr th {\n",
       "        vertical-align: top;\n",
       "    }\n",
       "\n",
       "    .dataframe thead th {\n",
       "        text-align: right;\n",
       "    }\n",
       "</style>\n",
       "<table border=\"1\" class=\"dataframe\">\n",
       "  <thead>\n",
       "    <tr style=\"text-align: right;\">\n",
       "      <th></th>\n",
       "      <th>Country</th>\n",
       "      <th>Rural Access (Year Varies)\n",
       "Index</th>\n",
       "      <th>Rural % of Total Population (2018)</th>\n",
       "      <th>Total Rural Population (2018)</th>\n",
       "      <th>Rural Population without Access (2018 Population, Varying RAI Year)</th>\n",
       "      <th>Human Development Index (2019)</th>\n",
       "    </tr>\n",
       "  </thead>\n",
       "  <tbody>\n",
       "    <tr>\n",
       "      <th>0</th>\n",
       "      <td>Afghanistan</td>\n",
       "      <td>22%</td>\n",
       "      <td>0.74505</td>\n",
       "      <td>27695286</td>\n",
       "      <td>2.16023e+07</td>\n",
       "      <td>0.49596</td>\n",
       "    </tr>\n",
       "    <tr>\n",
       "      <th>1</th>\n",
       "      <td>Albania</td>\n",
       "      <td>31%</td>\n",
       "      <td>0.39681</td>\n",
       "      <td>1137407</td>\n",
       "      <td>784811</td>\n",
       "      <td>0.791406</td>\n",
       "    </tr>\n",
       "    <tr>\n",
       "      <th>2</th>\n",
       "      <td>Algeria</td>\n",
       "      <td>59%</td>\n",
       "      <td>0.27371</td>\n",
       "      <td>11558343</td>\n",
       "      <td>4.73892e+06</td>\n",
       "      <td>0.758978</td>\n",
       "    </tr>\n",
       "    <tr>\n",
       "      <th>3</th>\n",
       "      <td>American Samoa</td>\n",
       "      <td>not available</td>\n",
       "      <td>0.12847</td>\n",
       "      <td>7126</td>\n",
       "      <td>not available</td>\n",
       "      <td>not available</td>\n",
       "    </tr>\n",
       "    <tr>\n",
       "      <th>4</th>\n",
       "      <td>Andorra</td>\n",
       "      <td>not available</td>\n",
       "      <td>0.11938</td>\n",
       "      <td>9193</td>\n",
       "      <td>not available</td>\n",
       "      <td>0.856781</td>\n",
       "    </tr>\n",
       "  </tbody>\n",
       "</table>\n",
       "</div>"
      ],
      "text/plain": [
       "          Country Rural Access (Year Varies)\\nIndex  \\\n",
       "0     Afghanistan                               22%   \n",
       "1         Albania                               31%   \n",
       "2         Algeria                               59%   \n",
       "3  American Samoa                     not available   \n",
       "4         Andorra                     not available   \n",
       "\n",
       "  Rural % of Total Population (2018) Total Rural Population (2018)  \\\n",
       "0                            0.74505                      27695286   \n",
       "1                            0.39681                       1137407   \n",
       "2                            0.27371                      11558343   \n",
       "3                            0.12847                          7126   \n",
       "4                            0.11938                          9193   \n",
       "\n",
       "  Rural Population without Access (2018 Population, Varying RAI Year)  \\\n",
       "0                                        2.16023e+07                    \n",
       "1                                             784811                    \n",
       "2                                        4.73892e+06                    \n",
       "3                                      not available                    \n",
       "4                                      not available                    \n",
       "\n",
       "  Human Development Index (2019)  \n",
       "0                        0.49596  \n",
       "1                       0.791406  \n",
       "2                       0.758978  \n",
       "3                  not available  \n",
       "4                       0.856781  "
      ]
     },
     "execution_count": 29,
     "metadata": {},
     "output_type": "execute_result"
    }
   ],
   "source": [
    "giDF.head()"
   ]
  },
  {
   "cell_type": "code",
   "execution_count": 30,
   "metadata": {},
   "outputs": [
    {
     "data": {
      "text/plain": [
       "(209, 6)"
      ]
     },
     "execution_count": 30,
     "metadata": {},
     "output_type": "execute_result"
    }
   ],
   "source": [
    "giDF.shape"
   ]
  },
  {
   "cell_type": "markdown",
   "metadata": {},
   "source": [
    "### Narrow DF to include only countries in which B2P has 10 or more bridge projects"
   ]
  },
  {
   "cell_type": "code",
   "execution_count": 31,
   "metadata": {},
   "outputs": [],
   "source": [
    "bridgesGI = giDF.loc[(giDF[\"Country\"]==\"Rwanda\")|(giDF[\"Country\"]==\"Nicaragua\")|(giDF[\"Country\"]==\"Bolivia\")|\n",
    "                    (giDF[\"Country\"]==\"Panama\")|(giDF[\"Country\"]==\"Guatemala\")|(giDF[\"Country\"]==\"Uganda\")|\n",
    "                    (giDF[\"Country\"]==\"Ethiopia\")|(giDF[\"Country\"]==\"Haiti\")|(giDF[\"Country\"]==\"Honduras\")|\n",
    "                    (giDF[\"Country\"]==\"Peru\")]"
   ]
  },
  {
   "cell_type": "code",
   "execution_count": 32,
   "metadata": {},
   "outputs": [
    {
     "data": {
      "text/html": [
       "<div>\n",
       "<style scoped>\n",
       "    .dataframe tbody tr th:only-of-type {\n",
       "        vertical-align: middle;\n",
       "    }\n",
       "\n",
       "    .dataframe tbody tr th {\n",
       "        vertical-align: top;\n",
       "    }\n",
       "\n",
       "    .dataframe thead th {\n",
       "        text-align: right;\n",
       "    }\n",
       "</style>\n",
       "<table border=\"1\" class=\"dataframe\">\n",
       "  <thead>\n",
       "    <tr style=\"text-align: right;\">\n",
       "      <th></th>\n",
       "      <th>Country</th>\n",
       "      <th>Rural Access (Year Varies)\n",
       "Index</th>\n",
       "      <th>Rural % of Total Population (2018)</th>\n",
       "      <th>Total Rural Population (2018)</th>\n",
       "      <th>Rural Population without Access (2018 Population, Varying RAI Year)</th>\n",
       "      <th>Human Development Index (2019)</th>\n",
       "    </tr>\n",
       "  </thead>\n",
       "  <tbody>\n",
       "    <tr>\n",
       "      <th>23</th>\n",
       "      <td>Bolivia</td>\n",
       "      <td>48%</td>\n",
       "      <td>0.30575</td>\n",
       "      <td>3471223</td>\n",
       "      <td>1.80504e+06</td>\n",
       "      <td>0.702842</td>\n",
       "    </tr>\n",
       "    <tr>\n",
       "      <th>61</th>\n",
       "      <td>Ethiopia</td>\n",
       "      <td>0.216</td>\n",
       "      <td>0.79237</td>\n",
       "      <td>86546264</td>\n",
       "      <td>6.78523e+07</td>\n",
       "      <td>0.46985</td>\n",
       "    </tr>\n",
       "    <tr>\n",
       "      <th>76</th>\n",
       "      <td>Guatemala</td>\n",
       "      <td>55%</td>\n",
       "      <td>0.48946</td>\n",
       "      <td>8442112</td>\n",
       "      <td>3.79895e+06</td>\n",
       "      <td>0.651035</td>\n",
       "    </tr>\n",
       "    <tr>\n",
       "      <th>80</th>\n",
       "      <td>Haiti</td>\n",
       "      <td>28%</td>\n",
       "      <td>0.44722</td>\n",
       "      <td>4974507</td>\n",
       "      <td>3.58165e+06</td>\n",
       "      <td>0.502731</td>\n",
       "    </tr>\n",
       "    <tr>\n",
       "      <th>81</th>\n",
       "      <td>Honduras</td>\n",
       "      <td>40%</td>\n",
       "      <td>0.42904</td>\n",
       "      <td>4113430</td>\n",
       "      <td>2468058</td>\n",
       "      <td>0.622981</td>\n",
       "    </tr>\n",
       "  </tbody>\n",
       "</table>\n",
       "</div>"
      ],
      "text/plain": [
       "      Country Rural Access (Year Varies)\\nIndex  \\\n",
       "23    Bolivia                               48%   \n",
       "61   Ethiopia                             0.216   \n",
       "76  Guatemala                               55%   \n",
       "80      Haiti                               28%   \n",
       "81   Honduras                               40%   \n",
       "\n",
       "   Rural % of Total Population (2018) Total Rural Population (2018)  \\\n",
       "23                            0.30575                       3471223   \n",
       "61                            0.79237                      86546264   \n",
       "76                            0.48946                       8442112   \n",
       "80                            0.44722                       4974507   \n",
       "81                            0.42904                       4113430   \n",
       "\n",
       "   Rural Population without Access (2018 Population, Varying RAI Year)  \\\n",
       "23                                        1.80504e+06                    \n",
       "61                                        6.78523e+07                    \n",
       "76                                        3.79895e+06                    \n",
       "80                                        3.58165e+06                    \n",
       "81                                            2468058                    \n",
       "\n",
       "   Human Development Index (2019)  \n",
       "23                       0.702842  \n",
       "61                        0.46985  \n",
       "76                       0.651035  \n",
       "80                       0.502731  \n",
       "81                       0.622981  "
      ]
     },
     "execution_count": 32,
     "metadata": {},
     "output_type": "execute_result"
    }
   ],
   "source": [
    "bridgesGI.head()"
   ]
  },
  {
   "cell_type": "markdown",
   "metadata": {},
   "source": [
    "### Bridges Data"
   ]
  },
  {
   "cell_type": "code",
   "execution_count": 33,
   "metadata": {},
   "outputs": [
    {
     "data": {
      "text/html": [
       "<div>\n",
       "<style scoped>\n",
       "    .dataframe tbody tr th:only-of-type {\n",
       "        vertical-align: middle;\n",
       "    }\n",
       "\n",
       "    .dataframe tbody tr th {\n",
       "        vertical-align: top;\n",
       "    }\n",
       "\n",
       "    .dataframe thead th {\n",
       "        text-align: right;\n",
       "    }\n",
       "</style>\n",
       "<table border=\"1\" class=\"dataframe\">\n",
       "  <thead>\n",
       "    <tr style=\"text-align: right;\">\n",
       "      <th></th>\n",
       "      <th>Country</th>\n",
       "      <th>Level 1 Government</th>\n",
       "      <th>Level 2 Government</th>\n",
       "      <th>Bridge Name</th>\n",
       "      <th>Project Code</th>\n",
       "      <th>B2P Fiscal Year</th>\n",
       "      <th>Stage</th>\n",
       "      <th>Individuals Directly Served</th>\n",
       "      <th>GPS (Latitude)</th>\n",
       "      <th>GPS (Longitude)</th>\n",
       "      <th>Bridge Type</th>\n",
       "      <th>Span (m)</th>\n",
       "      <th>Project Type</th>\n",
       "    </tr>\n",
       "  </thead>\n",
       "  <tbody>\n",
       "    <tr>\n",
       "      <th>0</th>\n",
       "      <td>Uganda</td>\n",
       "      <td>Eastern Region</td>\n",
       "      <td>Mbale</td>\n",
       "      <td>Kama</td>\n",
       "      <td>UG101</td>\n",
       "      <td>2018</td>\n",
       "      <td>Complete</td>\n",
       "      <td>5280.0</td>\n",
       "      <td>1.116330</td>\n",
       "      <td>34.252460</td>\n",
       "      <td>Suspended Bridge</td>\n",
       "      <td>90.0</td>\n",
       "      <td>B2P Built</td>\n",
       "    </tr>\n",
       "    <tr>\n",
       "      <th>1</th>\n",
       "      <td>Swaziland</td>\n",
       "      <td>NaN</td>\n",
       "      <td>NaN</td>\n",
       "      <td>Mbluzi-Myendle</td>\n",
       "      <td>GO108</td>\n",
       "      <td>2017</td>\n",
       "      <td>Complete</td>\n",
       "      <td>4000.0</td>\n",
       "      <td>-26.294120</td>\n",
       "      <td>31.271240</td>\n",
       "      <td>Suspended Bridge</td>\n",
       "      <td>73.0</td>\n",
       "      <td>B2P Supported</td>\n",
       "    </tr>\n",
       "    <tr>\n",
       "      <th>2</th>\n",
       "      <td>Panama</td>\n",
       "      <td>Ngäbe-Buglé</td>\n",
       "      <td>NaN</td>\n",
       "      <td>Llano Bonito</td>\n",
       "      <td>PA122</td>\n",
       "      <td>2017</td>\n",
       "      <td>Complete</td>\n",
       "      <td>1500.0</td>\n",
       "      <td>8.446314</td>\n",
       "      <td>-81.365675</td>\n",
       "      <td>Suspended Bridge</td>\n",
       "      <td>79.0</td>\n",
       "      <td>B2P Supported</td>\n",
       "    </tr>\n",
       "    <tr>\n",
       "      <th>3</th>\n",
       "      <td>Nicaragua</td>\n",
       "      <td>Jinotega</td>\n",
       "      <td>Santa María de Pantasma</td>\n",
       "      <td>Puente San Vicente N°1</td>\n",
       "      <td>1008677</td>\n",
       "      <td>2018</td>\n",
       "      <td>Complete</td>\n",
       "      <td>4000.0</td>\n",
       "      <td>13.435012</td>\n",
       "      <td>-85.783800</td>\n",
       "      <td>Suspension Bridge</td>\n",
       "      <td>67.8</td>\n",
       "      <td>B2P Built</td>\n",
       "    </tr>\n",
       "    <tr>\n",
       "      <th>4</th>\n",
       "      <td>Nicaragua</td>\n",
       "      <td>Matagalpa</td>\n",
       "      <td>Río Blanco</td>\n",
       "      <td>La Guitarrilla</td>\n",
       "      <td>1008691</td>\n",
       "      <td>2018</td>\n",
       "      <td>Complete</td>\n",
       "      <td>4000.0</td>\n",
       "      <td>13.122785</td>\n",
       "      <td>-85.236833</td>\n",
       "      <td>Suspension Bridge</td>\n",
       "      <td>77.5</td>\n",
       "      <td>B2P Built</td>\n",
       "    </tr>\n",
       "  </tbody>\n",
       "</table>\n",
       "</div>"
      ],
      "text/plain": [
       "     Country Level 1 Government       Level 2 Government  \\\n",
       "0     Uganda     Eastern Region                    Mbale   \n",
       "1  Swaziland                NaN                      NaN   \n",
       "2     Panama        Ngäbe-Buglé                      NaN   \n",
       "3  Nicaragua           Jinotega  Santa María de Pantasma   \n",
       "4  Nicaragua          Matagalpa               Río Blanco   \n",
       "\n",
       "              Bridge Name Project Code  B2P Fiscal Year     Stage  \\\n",
       "0                    Kama        UG101             2018  Complete   \n",
       "1          Mbluzi-Myendle        GO108             2017  Complete   \n",
       "2            Llano Bonito        PA122             2017  Complete   \n",
       "3  Puente San Vicente N°1      1008677             2018  Complete   \n",
       "4          La Guitarrilla      1008691             2018  Complete   \n",
       "\n",
       "   Individuals Directly Served  GPS (Latitude)  GPS (Longitude)  \\\n",
       "0                       5280.0        1.116330        34.252460   \n",
       "1                       4000.0      -26.294120        31.271240   \n",
       "2                       1500.0        8.446314       -81.365675   \n",
       "3                       4000.0       13.435012       -85.783800   \n",
       "4                       4000.0       13.122785       -85.236833   \n",
       "\n",
       "         Bridge Type  Span (m)   Project Type  \n",
       "0   Suspended Bridge      90.0      B2P Built  \n",
       "1   Suspended Bridge      73.0  B2P Supported  \n",
       "2   Suspended Bridge      79.0  B2P Supported  \n",
       "3  Suspension Bridge      67.8      B2P Built  \n",
       "4  Suspension Bridge      77.5      B2P Built  "
      ]
     },
     "execution_count": 33,
     "metadata": {},
     "output_type": "execute_result"
    }
   ],
   "source": [
    "bridgesDF.head()"
   ]
  },
  {
   "cell_type": "code",
   "execution_count": 34,
   "metadata": {},
   "outputs": [
    {
     "data": {
      "text/plain": [
       "(339, 13)"
      ]
     },
     "execution_count": 34,
     "metadata": {},
     "output_type": "execute_result"
    }
   ],
   "source": [
    "bridgesDF.shape"
   ]
  },
  {
   "cell_type": "code",
   "execution_count": 36,
   "metadata": {},
   "outputs": [
    {
     "data": {
      "text/plain": [
       "Complete              313\n",
       "Under Construction     19\n",
       "Confirmed               7\n",
       "Name: Stage, dtype: int64"
      ]
     },
     "execution_count": 36,
     "metadata": {},
     "output_type": "execute_result"
    }
   ],
   "source": [
    "bridgesDF[\"Stage\"].value_counts()"
   ]
  },
  {
   "cell_type": "markdown",
   "metadata": {},
   "source": [
    "## Merge the two"
   ]
  },
  {
   "cell_type": "code",
   "execution_count": 38,
   "metadata": {},
   "outputs": [
    {
     "data": {
      "text/plain": [
       "Country                         object\n",
       "Level 1 Government              object\n",
       "Level 2 Government              object\n",
       "Bridge Name                     object\n",
       "Project Code                    object\n",
       "B2P Fiscal Year                  int64\n",
       "Stage                           object\n",
       "Individuals Directly Served    float64\n",
       "GPS (Latitude)                 float64\n",
       "GPS (Longitude)                float64\n",
       "Bridge Type                     object\n",
       "Span (m)                       float64\n",
       "Project Type                    object\n",
       "dtype: object"
      ]
     },
     "execution_count": 38,
     "metadata": {},
     "output_type": "execute_result"
    }
   ],
   "source": [
    "bridgesDF.dtypes"
   ]
  },
  {
   "cell_type": "code",
   "execution_count": 39,
   "metadata": {},
   "outputs": [
    {
     "data": {
      "text/plain": [
       "Country                                                                object\n",
       "Rural Access (Year Varies)\\nIndex                                      object\n",
       "Rural % of Total Population (2018)                                     object\n",
       "Total Rural Population (2018)                                          object\n",
       "Rural Population without Access (2018 Population, Varying RAI Year)    object\n",
       "Human Development Index (2019)                                         object\n",
       "dtype: object"
      ]
     },
     "execution_count": 39,
     "metadata": {},
     "output_type": "execute_result"
    }
   ],
   "source": [
    "bridgesGI.dtypes"
   ]
  },
  {
   "cell_type": "code",
   "execution_count": 40,
   "metadata": {},
   "outputs": [],
   "source": [
    "mergedDF = pd.merge(bridgesGI, bridgesDF, on = \"Country\", how = 'outer')"
   ]
  },
  {
   "cell_type": "code",
   "execution_count": 41,
   "metadata": {},
   "outputs": [
    {
     "data": {
      "text/html": [
       "<div>\n",
       "<style scoped>\n",
       "    .dataframe tbody tr th:only-of-type {\n",
       "        vertical-align: middle;\n",
       "    }\n",
       "\n",
       "    .dataframe tbody tr th {\n",
       "        vertical-align: top;\n",
       "    }\n",
       "\n",
       "    .dataframe thead th {\n",
       "        text-align: right;\n",
       "    }\n",
       "</style>\n",
       "<table border=\"1\" class=\"dataframe\">\n",
       "  <thead>\n",
       "    <tr style=\"text-align: right;\">\n",
       "      <th></th>\n",
       "      <th>Country</th>\n",
       "      <th>Rural Access (Year Varies)\n",
       "Index</th>\n",
       "      <th>Rural % of Total Population (2018)</th>\n",
       "      <th>Total Rural Population (2018)</th>\n",
       "      <th>Rural Population without Access (2018 Population, Varying RAI Year)</th>\n",
       "      <th>Human Development Index (2019)</th>\n",
       "      <th>Level 1 Government</th>\n",
       "      <th>Level 2 Government</th>\n",
       "      <th>Bridge Name</th>\n",
       "      <th>Project Code</th>\n",
       "      <th>B2P Fiscal Year</th>\n",
       "      <th>Stage</th>\n",
       "      <th>Individuals Directly Served</th>\n",
       "      <th>GPS (Latitude)</th>\n",
       "      <th>GPS (Longitude)</th>\n",
       "      <th>Bridge Type</th>\n",
       "      <th>Span (m)</th>\n",
       "      <th>Project Type</th>\n",
       "    </tr>\n",
       "  </thead>\n",
       "  <tbody>\n",
       "    <tr>\n",
       "      <th>0</th>\n",
       "      <td>Bolivia</td>\n",
       "      <td>48%</td>\n",
       "      <td>0.30575</td>\n",
       "      <td>3471223</td>\n",
       "      <td>1.80504e+06</td>\n",
       "      <td>0.702842</td>\n",
       "      <td>Cochabamba</td>\n",
       "      <td>Chapare</td>\n",
       "      <td>Espíritu Santo</td>\n",
       "      <td>1009257</td>\n",
       "      <td>2019</td>\n",
       "      <td>Complete</td>\n",
       "      <td>1400.0</td>\n",
       "      <td>-17.013303</td>\n",
       "      <td>-65.548014</td>\n",
       "      <td>Suspended Bridge</td>\n",
       "      <td>132.0</td>\n",
       "      <td>B2P Built</td>\n",
       "    </tr>\n",
       "    <tr>\n",
       "      <th>1</th>\n",
       "      <td>Bolivia</td>\n",
       "      <td>48%</td>\n",
       "      <td>0.30575</td>\n",
       "      <td>3471223</td>\n",
       "      <td>1.80504e+06</td>\n",
       "      <td>0.702842</td>\n",
       "      <td>Cochabamba</td>\n",
       "      <td>Tapacarí</td>\n",
       "      <td>Machacamarca</td>\n",
       "      <td>1009318</td>\n",
       "      <td>2018</td>\n",
       "      <td>Complete</td>\n",
       "      <td>2400.0</td>\n",
       "      <td>-17.540939</td>\n",
       "      <td>-66.802628</td>\n",
       "      <td>Suspended Bridge</td>\n",
       "      <td>53.0</td>\n",
       "      <td>B2P Built</td>\n",
       "    </tr>\n",
       "    <tr>\n",
       "      <th>2</th>\n",
       "      <td>Bolivia</td>\n",
       "      <td>48%</td>\n",
       "      <td>0.30575</td>\n",
       "      <td>3471223</td>\n",
       "      <td>1.80504e+06</td>\n",
       "      <td>0.702842</td>\n",
       "      <td>Cochabamba</td>\n",
       "      <td>Narciso Campero</td>\n",
       "      <td>Pabellon</td>\n",
       "      <td>BO130</td>\n",
       "      <td>2017</td>\n",
       "      <td>Complete</td>\n",
       "      <td>210.0</td>\n",
       "      <td>-18.296267</td>\n",
       "      <td>-65.253150</td>\n",
       "      <td>Suspended Bridge</td>\n",
       "      <td>35.0</td>\n",
       "      <td>B2P Built</td>\n",
       "    </tr>\n",
       "    <tr>\n",
       "      <th>3</th>\n",
       "      <td>Bolivia</td>\n",
       "      <td>48%</td>\n",
       "      <td>0.30575</td>\n",
       "      <td>3471223</td>\n",
       "      <td>1.80504e+06</td>\n",
       "      <td>0.702842</td>\n",
       "      <td>Cochabamba</td>\n",
       "      <td>Chapare</td>\n",
       "      <td>Misión Mayu</td>\n",
       "      <td>1007320</td>\n",
       "      <td>2018</td>\n",
       "      <td>Complete</td>\n",
       "      <td>700.0</td>\n",
       "      <td>-17.034050</td>\n",
       "      <td>-65.985683</td>\n",
       "      <td>Suspended Bridge</td>\n",
       "      <td>90.0</td>\n",
       "      <td>B2P Built</td>\n",
       "    </tr>\n",
       "    <tr>\n",
       "      <th>4</th>\n",
       "      <td>Bolivia</td>\n",
       "      <td>48%</td>\n",
       "      <td>0.30575</td>\n",
       "      <td>3471223</td>\n",
       "      <td>1.80504e+06</td>\n",
       "      <td>0.702842</td>\n",
       "      <td>La Paz</td>\n",
       "      <td>Abel Iturralde</td>\n",
       "      <td>Capaina</td>\n",
       "      <td>1007321</td>\n",
       "      <td>2018</td>\n",
       "      <td>Complete</td>\n",
       "      <td>175.0</td>\n",
       "      <td>-14.403170</td>\n",
       "      <td>-67.564314</td>\n",
       "      <td>Suspended Bridge</td>\n",
       "      <td>40.0</td>\n",
       "      <td>B2P Built</td>\n",
       "    </tr>\n",
       "  </tbody>\n",
       "</table>\n",
       "</div>"
      ],
      "text/plain": [
       "   Country Rural Access (Year Varies)\\nIndex  \\\n",
       "0  Bolivia                               48%   \n",
       "1  Bolivia                               48%   \n",
       "2  Bolivia                               48%   \n",
       "3  Bolivia                               48%   \n",
       "4  Bolivia                               48%   \n",
       "\n",
       "  Rural % of Total Population (2018) Total Rural Population (2018)  \\\n",
       "0                            0.30575                       3471223   \n",
       "1                            0.30575                       3471223   \n",
       "2                            0.30575                       3471223   \n",
       "3                            0.30575                       3471223   \n",
       "4                            0.30575                       3471223   \n",
       "\n",
       "  Rural Population without Access (2018 Population, Varying RAI Year)  \\\n",
       "0                                        1.80504e+06                    \n",
       "1                                        1.80504e+06                    \n",
       "2                                        1.80504e+06                    \n",
       "3                                        1.80504e+06                    \n",
       "4                                        1.80504e+06                    \n",
       "\n",
       "  Human Development Index (2019) Level 1 Government Level 2 Government  \\\n",
       "0                       0.702842         Cochabamba            Chapare   \n",
       "1                       0.702842         Cochabamba           Tapacarí   \n",
       "2                       0.702842         Cochabamba    Narciso Campero   \n",
       "3                       0.702842         Cochabamba            Chapare   \n",
       "4                       0.702842             La Paz     Abel Iturralde   \n",
       "\n",
       "      Bridge Name Project Code  B2P Fiscal Year     Stage  \\\n",
       "0  Espíritu Santo      1009257             2019  Complete   \n",
       "1    Machacamarca      1009318             2018  Complete   \n",
       "2        Pabellon        BO130             2017  Complete   \n",
       "3     Misión Mayu      1007320             2018  Complete   \n",
       "4         Capaina      1007321             2018  Complete   \n",
       "\n",
       "   Individuals Directly Served  GPS (Latitude)  GPS (Longitude)  \\\n",
       "0                       1400.0      -17.013303       -65.548014   \n",
       "1                       2400.0      -17.540939       -66.802628   \n",
       "2                        210.0      -18.296267       -65.253150   \n",
       "3                        700.0      -17.034050       -65.985683   \n",
       "4                        175.0      -14.403170       -67.564314   \n",
       "\n",
       "        Bridge Type  Span (m) Project Type  \n",
       "0  Suspended Bridge     132.0    B2P Built  \n",
       "1  Suspended Bridge      53.0    B2P Built  \n",
       "2  Suspended Bridge      35.0    B2P Built  \n",
       "3  Suspended Bridge      90.0    B2P Built  \n",
       "4  Suspended Bridge      40.0    B2P Built  "
      ]
     },
     "execution_count": 41,
     "metadata": {},
     "output_type": "execute_result"
    }
   ],
   "source": [
    "mergedDF.head()"
   ]
  },
  {
   "cell_type": "code",
   "execution_count": 42,
   "metadata": {},
   "outputs": [
    {
     "data": {
      "text/plain": [
       "(339, 18)"
      ]
     },
     "execution_count": 42,
     "metadata": {},
     "output_type": "execute_result"
    }
   ],
   "source": [
    "mergedDF.shape"
   ]
  },
  {
   "cell_type": "code",
   "execution_count": null,
   "metadata": {},
   "outputs": [],
   "source": []
  }
 ],
 "metadata": {
  "kernelspec": {
   "display_name": "Python 3",
   "language": "python",
   "name": "python3"
  },
  "language_info": {
   "codemirror_mode": {
    "name": "ipython",
    "version": 3
   },
   "file_extension": ".py",
   "mimetype": "text/x-python",
   "name": "python",
   "nbconvert_exporter": "python",
   "pygments_lexer": "ipython3",
   "version": "3.7.3"
  }
 },
 "nbformat": 4,
 "nbformat_minor": 2
}
